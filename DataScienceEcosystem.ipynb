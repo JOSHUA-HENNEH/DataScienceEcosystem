{
 "cells": [
  {
   "cell_type": "markdown",
   "id": "5c66d44c-5685-4dbb-a2be-ef994b2095d9",
   "metadata": {},
   "source": [
    "## Data Science Tools and Ecosystem"
   ]
  },
  {
   "cell_type": "markdown",
   "id": "04122ab4-f673-4f77-b3aa-acb5d929194c",
   "metadata": {},
   "source": [
    "In this notebook, Data Science and Tools and Ecosystem are summarized"
   ]
  },
  {
   "cell_type": "code",
   "execution_count": null,
   "id": "6d8c7bae-4394-4e97-90cc-ddf8f2d4acba",
   "metadata": {},
   "outputs": [],
   "source": []
  },
  {
   "cell_type": "markdown",
   "id": "25b22fab-eb26-4aac-8661-75839ae5ed82",
   "metadata": {},
   "source": [
    "Some of the popular languages that Data Scientist use are:\n",
    "1. Python\n",
    "2. R\n",
    "3. C++\n",
    "4. SQL"
   ]
  },
  {
   "cell_type": "markdown",
   "id": "d76bc0f9-e448-460a-a089-1ae69458b616",
   "metadata": {},
   "source": [
    "Some of the commonly used libraries used by Data Scientists include:\n",
    "1. Pandas\n",
    "2. NumPy\n",
    "3. PyTorch"
   ]
  },
  {
   "cell_type": "markdown",
   "id": "c6fa0a8d-7ebb-49f7-9e77-80eeb31c8a33",
   "metadata": {},
   "source": [
    "|Data Science Tools|\n",
    "|------------------|\n",
    "| Jupyter Notebook |\n",
    "| R Studio         |\n",
    "| MATLAB           |"
   ]
  },
  {
   "cell_type": "markdown",
   "id": "d6cf65a0-aeb4-4275-8685-d1e456b957e3",
   "metadata": {},
   "source": [
    "### Below are a few examples of evaluating arithmetic expressions in Python"
   ]
  },
  {
   "cell_type": "code",
   "execution_count": 15,
   "id": "546c3ac5-c91b-404f-bbc2-ddc330cb0cb2",
   "metadata": {},
   "outputs": [
    {
     "name": "stdout",
     "output_type": "stream",
     "text": [
      "17\n"
     ]
    }
   ],
   "source": [
    "# This is a simple arithmetic expression to multiply then add integers\n",
    "A= (3*4)+5\n",
    "print (A)"
   ]
  },
  {
   "cell_type": "code",
   "execution_count": 32,
   "id": "47f1add5-c2ce-4d3f-b952-775aeb7c2fa2",
   "metadata": {},
   "outputs": [
    {
     "name": "stdout",
     "output_type": "stream",
     "text": [
      "3.3333333333333335\n"
     ]
    }
   ],
   "source": [
    "# This will convert 200 minutes to hours by dividing by 60\n",
    "minutes = 200\n",
    "hours = minutes/60\n",
    "print (hours)"
   ]
  },
  {
   "cell_type": "markdown",
   "id": "9eb2498b-05e1-43d8-89de-4ca69df8a10a",
   "metadata": {},
   "source": [
    "**Objectives:**\n",
    "- List Popular Languages of Data Science\n",
    "- Common Libraries used by Data Science\n",
    "- List tools used by Data Scientist"
   ]
  },
  {
   "cell_type": "markdown",
   "id": "05c8759c-0b8d-4061-8149-fb594b76f2c1",
   "metadata": {},
   "source": [
    "## Author\n",
    "Joshua Henneh"
   ]
  },
  {
   "cell_type": "code",
   "execution_count": null,
   "id": "fafe7389-8026-4a19-8c5d-c181e40dee7c",
   "metadata": {},
   "outputs": [],
   "source": []
  }
 ],
 "metadata": {
  "kernelspec": {
   "display_name": "Python 3 (ipykernel)",
   "language": "python",
   "name": "python3"
  },
  "language_info": {
   "codemirror_mode": {
    "name": "ipython",
    "version": 3
   },
   "file_extension": ".py",
   "mimetype": "text/x-python",
   "name": "python",
   "nbconvert_exporter": "python",
   "pygments_lexer": "ipython3",
   "version": "3.12.4"
  }
 },
 "nbformat": 4,
 "nbformat_minor": 5
}
